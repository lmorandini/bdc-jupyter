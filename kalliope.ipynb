{
 "cells": [
  {
   "cell_type": "code",
   "execution_count": 1,
   "id": "40d0d420-1eb2-4ec1-b4e0-34e9fbb1ff04",
   "metadata": {},
   "outputs": [],
   "source": [
    "k.df <- read.csv('./data/kalliope/ChatCompletionsRequests.csv')"
   ]
  },
  {
   "cell_type": "code",
   "execution_count": 5,
   "id": "8ca04324-9b4b-4550-a99b-c2cb19f06bb5",
   "metadata": {},
   "outputs": [
    {
     "data": {
      "text/html": [
       "<style>\n",
       ".list-inline {list-style: none; margin:0; padding: 0}\n",
       ".list-inline>li {display: inline-block}\n",
       ".list-inline>li:not(:last-child)::after {content: \"\\00b7\"; padding: 0 .5ex}\n",
       "</style>\n",
       "<ol class=list-inline><li>'X.timestamp'</li><li>'data.body.messages.content'</li><li>'data.body.messages.role'</li><li>'data.headers.authorization'</li></ol>\n"
      ],
      "text/latex": [
       "\\begin{enumerate*}\n",
       "\\item 'X.timestamp'\n",
       "\\item 'data.body.messages.content'\n",
       "\\item 'data.body.messages.role'\n",
       "\\item 'data.headers.authorization'\n",
       "\\end{enumerate*}\n"
      ],
      "text/markdown": [
       "1. 'X.timestamp'\n",
       "2. 'data.body.messages.content'\n",
       "3. 'data.body.messages.role'\n",
       "4. 'data.headers.authorization'\n",
       "\n",
       "\n"
      ],
      "text/plain": [
       "[1] \"X.timestamp\"                \"data.body.messages.content\"\n",
       "[3] \"data.body.messages.role\"    \"data.headers.authorization\""
      ]
     },
     "metadata": {},
     "output_type": "display_data"
    },
    {
     "data": {
      "text/plain": [
       "\n",
       "0e7853beae159d2028facc4d8400e8 211c770417c61c77c14d1d08fe0b46 \n",
       "                           182                              2 \n",
       "294378284ebf4197e955c1b25acdd6 3d41205500420da52e6970f41bedc9 \n",
       "                          4596                            111 "
      ]
     },
     "metadata": {},
     "output_type": "display_data"
    }
   ],
   "source": [
    "names(k.df)\n",
    "#aggregate(k.df, list(k.df$data.headers.authorization), FUN=length, na.rm=TRUE)\n",
    "table(k.df$data.headers.authorization)"
   ]
  },
  {
   "cell_type": "code",
   "execution_count": null,
   "id": "52623ea8-961c-47f6-b13a-089878bca629",
   "metadata": {},
   "outputs": [],
   "source": []
  }
 ],
 "metadata": {
  "kernelspec": {
   "display_name": "R",
   "language": "R",
   "name": "ir"
  },
  "language_info": {
   "codemirror_mode": "r",
   "file_extension": ".r",
   "mimetype": "text/x-r-source",
   "name": "R",
   "pygments_lexer": "r",
   "version": "4.2.2"
  }
 },
 "nbformat": 4,
 "nbformat_minor": 5
}
